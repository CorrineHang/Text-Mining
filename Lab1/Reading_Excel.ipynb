{
 "cells": [
  {
   "cell_type": "markdown",
   "metadata": {},
   "source": [
    "#READING Excel data (FORD DATASET from the Blackboard)"
   ]
  },
  {
   "cell_type": "code",
   "execution_count": 1,
   "metadata": {},
   "outputs": [
    {
     "name": "stdout",
     "output_type": "stream",
     "text": [
      "['Ford_data']\n"
     ]
    },
    {
     "data": {
      "text/plain": [
       "<matplotlib.axes._subplots.AxesSubplot at 0x10df26dd8>"
      ]
     },
     "execution_count": 1,
     "metadata": {},
     "output_type": "execute_result"
    }
   ],
   "source": [
    "#import pandas package\n",
    "import pandas as pd\n",
    "\n",
    "# !USER SPECIFIC: Assign spreadsheet filename to 'file'\n",
    "file = './Ford_data.xlsx'\n",
    "\n",
    "xl = pd.ExcelFile(file)     # Load spreadsheet\n",
    "print(xl.sheet_names)       # Print the sheet names\n",
    "df = xl.parse('Ford_data')  # Load a sheet into a DataFrame by name: df\n",
    "df.head()                   # See first lines of the dataframe\n",
    "\n",
    "# Describe data: value for class variable and counts?\n",
    "df['class'].value_counts().plot.bar()"
   ]
  },
  {
   "cell_type": "code",
   "execution_count": null,
   "metadata": {},
   "outputs": [],
   "source": []
  }
 ],
 "metadata": {
  "kernelspec": {
   "display_name": "Python 3",
   "language": "python",
   "name": "python3"
  },
  "language_info": {
   "codemirror_mode": {
    "name": "ipython",
    "version": 3
   },
   "file_extension": ".py",
   "mimetype": "text/x-python",
   "name": "python",
   "nbconvert_exporter": "python",
   "pygments_lexer": "ipython3",
   "version": "3.6.5"
  }
 },
 "nbformat": 4,
 "nbformat_minor": 2
}
