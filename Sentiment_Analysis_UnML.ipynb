{
 "cells": [
  {
   "cell_type": "markdown",
   "metadata": {},
   "source": [
    "**LAB: SENTIMENT ANALYSIS - Unsupervised Machine Learning (Lexocon-based)**\n",
    "\n",
    "We will work with the same movie reviews data we used for sentiment analysis with supervised machine learning. \n",
    "\n",
    "IMPORTANT: This time, the data are being stored in two \"pickled\" pandas dataframes, one for all training data and one for all testing data. We will use just the test data.\n",
    "\n",
    "To get the data:\n",
    "\n",
    "1- Download the \"movie reviews\" folder from here: https://www.dropbox.com/sh/4ln8ihzfsbwz3g2/AAC5kQXjcK87KllxYpZJr0-Wa?dl=0\n",
    "\n",
    "2- Look inside the folder to see how the data are organized.\n",
    "\n",
    "3- Set the path to the \"movie reviews\" folder on your machine:"
   ]
  },
  {
   "cell_type": "code",
   "execution_count": 9,
   "metadata": {},
   "outputs": [],
   "source": [
    "path = '/Users/corrine/Documents/Data Courses/Text Mining/movie_reviews/'"
   ]
  },
  {
   "cell_type": "markdown",
   "metadata": {},
   "source": [
    "We will use some functions for text pre-processing defined in Text_Normalization_Function.ipynb. Make sure that file is located in the same folder as the current Jupyter notebook (or include path to the file in the line below):"
   ]
  },
  {
   "cell_type": "code",
   "execution_count": 2,
   "metadata": {},
   "outputs": [
    {
     "name": "stdout",
     "output_type": "stream",
     "text": [
      "Collecting html.parser\n",
      "Requirement already satisfied: ply in /anaconda3/lib/python3.6/site-packages (from html.parser) (3.11)\n",
      "Installing collected packages: html.parser\n",
      "Successfully installed html.parser\n",
      "Requirement already satisfied: pattern3 in /anaconda3/lib/python3.6/site-packages (3.0.0)\n",
      "Requirement already satisfied: simplejson in /anaconda3/lib/python3.6/site-packages (from pattern3) (3.16.0)\n",
      "Requirement already satisfied: feedparser in /anaconda3/lib/python3.6/site-packages (from pattern3) (5.2.1)\n",
      "Requirement already satisfied: pdfminer.six in /anaconda3/lib/python3.6/site-packages (from pattern3) (20181108)\n",
      "Requirement already satisfied: docx in /anaconda3/lib/python3.6/site-packages (from pattern3) (0.2.4)\n",
      "Requirement already satisfied: cherrypy in /anaconda3/lib/python3.6/site-packages (from pattern3) (18.1.1)\n",
      "Requirement already satisfied: beautifulsoup4 in /anaconda3/lib/python3.6/site-packages (from pattern3) (4.6.0)\n",
      "Requirement already satisfied: pdfminer3k in /anaconda3/lib/python3.6/site-packages (from pattern3) (1.3.1)\n",
      "Requirement already satisfied: sortedcontainers in /anaconda3/lib/python3.6/site-packages (from pdfminer.six->pattern3) (1.5.10)\n",
      "Requirement already satisfied: pycryptodome in /anaconda3/lib/python3.6/site-packages (from pdfminer.six->pattern3) (3.8.1)\n",
      "Requirement already satisfied: six in /anaconda3/lib/python3.6/site-packages (from pdfminer.six->pattern3) (1.11.0)\n",
      "Requirement already satisfied: Pillow>=2.0 in /anaconda3/lib/python3.6/site-packages (from docx->pattern3) (5.1.0)\n",
      "Requirement already satisfied: lxml in /anaconda3/lib/python3.6/site-packages (from docx->pattern3) (4.2.1)\n",
      "Requirement already satisfied: more-itertools in /anaconda3/lib/python3.6/site-packages (from cherrypy->pattern3) (4.1.0)\n",
      "Requirement already satisfied: portend>=2.1.1 in /anaconda3/lib/python3.6/site-packages (from cherrypy->pattern3) (2.3)\n",
      "Requirement already satisfied: cheroot>=6.2.4 in /anaconda3/lib/python3.6/site-packages (from cherrypy->pattern3) (6.5.4)\n",
      "Requirement already satisfied: zc.lockfile in /anaconda3/lib/python3.6/site-packages (from cherrypy->pattern3) (1.4)\n",
      "Requirement already satisfied: ply>=3.4 in /anaconda3/lib/python3.6/site-packages (from pdfminer3k->pattern3) (3.11)\n",
      "Requirement already satisfied: pytest>=2.0 in /anaconda3/lib/python3.6/site-packages (from pdfminer3k->pattern3) (3.5.1)\n",
      "Requirement already satisfied: tempora>=1.8 in /anaconda3/lib/python3.6/site-packages (from portend>=2.1.1->cherrypy->pattern3) (1.14)\n",
      "Requirement already satisfied: backports.functools-lru-cache in /anaconda3/lib/python3.6/site-packages (from cheroot>=6.2.4->cherrypy->pattern3) (1.5)\n",
      "Requirement already satisfied: setuptools in /anaconda3/lib/python3.6/site-packages (from zc.lockfile->cherrypy->pattern3) (39.1.0)\n",
      "Requirement already satisfied: py>=1.5.0 in /anaconda3/lib/python3.6/site-packages (from pytest>=2.0->pdfminer3k->pattern3) (1.5.3)\n",
      "Requirement already satisfied: attrs>=17.4.0 in /anaconda3/lib/python3.6/site-packages (from pytest>=2.0->pdfminer3k->pattern3) (18.1.0)\n",
      "Requirement already satisfied: pluggy<0.7,>=0.5 in /anaconda3/lib/python3.6/site-packages (from pytest>=2.0->pdfminer3k->pattern3) (0.6.0)\n",
      "Requirement already satisfied: pytz in /anaconda3/lib/python3.6/site-packages (from tempora>=1.8->portend>=2.1.1->cherrypy->pattern3) (2018.4)\n",
      "Requirement already satisfied: jaraco.functools>=1.20 in /anaconda3/lib/python3.6/site-packages (from tempora>=1.8->portend>=2.1.1->cherrypy->pattern3) (2.0)\n",
      "Requirement already satisfied: pyLDAvis in /anaconda3/lib/python3.6/site-packages (2.1.2)\n",
      "Requirement already satisfied: pytest in /anaconda3/lib/python3.6/site-packages (from pyLDAvis) (3.5.1)\n",
      "Requirement already satisfied: joblib>=0.8.4 in /anaconda3/lib/python3.6/site-packages (from pyLDAvis) (0.13.2)\n",
      "Requirement already satisfied: pandas>=0.17.0 in /anaconda3/lib/python3.6/site-packages (from pyLDAvis) (0.23.0)\n",
      "Requirement already satisfied: future in /anaconda3/lib/python3.6/site-packages (from pyLDAvis) (0.17.1)\n",
      "Requirement already satisfied: wheel>=0.23.0 in /anaconda3/lib/python3.6/site-packages (from pyLDAvis) (0.31.1)\n",
      "Requirement already satisfied: jinja2>=2.7.2 in /anaconda3/lib/python3.6/site-packages (from pyLDAvis) (2.10)\n",
      "Requirement already satisfied: numexpr in /anaconda3/lib/python3.6/site-packages (from pyLDAvis) (2.6.5)\n",
      "Requirement already satisfied: numpy>=1.9.2 in /anaconda3/lib/python3.6/site-packages (from pyLDAvis) (1.14.3)\n",
      "Requirement already satisfied: funcy in /anaconda3/lib/python3.6/site-packages (from pyLDAvis) (1.11)\n",
      "Requirement already satisfied: scipy>=0.18.0 in /anaconda3/lib/python3.6/site-packages (from pyLDAvis) (1.1.0)\n",
      "Requirement already satisfied: py>=1.5.0 in /anaconda3/lib/python3.6/site-packages (from pytest->pyLDAvis) (1.5.3)\n",
      "Requirement already satisfied: six>=1.10.0 in /anaconda3/lib/python3.6/site-packages (from pytest->pyLDAvis) (1.11.0)\n",
      "Requirement already satisfied: setuptools in /anaconda3/lib/python3.6/site-packages (from pytest->pyLDAvis) (39.1.0)\n",
      "Requirement already satisfied: attrs>=17.4.0 in /anaconda3/lib/python3.6/site-packages (from pytest->pyLDAvis) (18.1.0)\n",
      "Requirement already satisfied: more-itertools>=4.0.0 in /anaconda3/lib/python3.6/site-packages (from pytest->pyLDAvis) (4.1.0)\n",
      "Requirement already satisfied: pluggy<0.7,>=0.5 in /anaconda3/lib/python3.6/site-packages (from pytest->pyLDAvis) (0.6.0)\n",
      "Requirement already satisfied: python-dateutil>=2.5.0 in /anaconda3/lib/python3.6/site-packages (from pandas>=0.17.0->pyLDAvis) (2.7.3)\n",
      "Requirement already satisfied: pytz>=2011k in /anaconda3/lib/python3.6/site-packages (from pandas>=0.17.0->pyLDAvis) (2018.4)\n",
      "Requirement already satisfied: MarkupSafe>=0.23 in /anaconda3/lib/python3.6/site-packages (from jinja2>=2.7.2->pyLDAvis) (1.0)\n",
      "Original:   <p>The circus dog in a plissé skirt jumped over Python who wasn't that large, just 3 feet long.</p>\n",
      "Processed:  ['<', 'p', '>', 'The', 'circus', 'dog', 'in', 'a', 'plissé', 'skirt', 'jumped', 'over', 'Python', 'who', 'was', \"n't\", 'that', 'large', ',', 'just', '3', 'feet', 'long.', '<', '/p', '>']\n",
      "Original:   <p>The circus dog in a plissé skirt jumped over Python who wasn't that large, just 3 feet long.</p>\n",
      "Processed:  <p>The circus dog in a plissé skirt jumped over Python who was not that large, just 3 feet long.</p>\n",
      "Original:   <p>The circus dog in a plissé skirt jumped over Python who wasn't that large, just 3 feet long.</p>\n",
      "Processed:  [('<', 'a'), ('p', 'n'), ('>', 'v'), ('the', None), ('circus', 'n'), ('dog', 'n'), ('in', None), ('a', None), ('plissé', 'n'), ('skirt', 'n'), ('jumped', 'v'), ('over', None), ('python', 'n'), ('who', None), ('was', 'v'), (\"n't\", 'r'), ('that', None), ('large', 'a'), (',', None), ('just', 'r'), ('3', None), ('feet', 'n'), ('long.', 'a'), ('<', 'n'), ('/p', 'n'), ('>', 'n')]\n",
      "Original:   <p>The circus dog in a plissé skirt jumped over Python who wasn't that large, just 3 feet long.</p>\n",
      "Processed:  < p > the circus dog in a plissé skirt jump over python who be n't that large , just 3 foot long. < /p >\n",
      "Original:   <p>The circus dog in a plissé skirt jumped over Python who wasn't that large, just 3 feet long.</p>\n",
      "Processed:    p   The circus dog in a plissé skirt jumped over Python who was n t that large   just 3 feet long     p  \n",
      "Original:   <p>The circus dog in a plissé skirt jumped over Python who wasn't that large, just 3 feet long.</p>\n",
      "Processed:  < p > The circus dog plissé skirt jumped Python n't large , 3 feet long. < /p >\n",
      "Original:   <p>The circus dog in a plissé skirt jumped over Python who wasn't that large, just 3 feet long.</p>\n",
      "Processed:  p The circus dog in a plissé skirt jumped over Python who was n't that large just feet long. /p\n",
      "Original:   <p>The circus dog in a plissé skirt jumped over Python who wasn't that large, just 3 feet long.</p>\n",
      "Processed:  The circus dog in a plissé skirt jumped over Python who wasn't that large, just 3 feet long.\n",
      "Original:   <p>The circus dog in a plissé skirt jumped over Python who wasn't that large, just 3 feet long.</p>\n",
      "Processed:  <p>The circus dog in a plisse skirt jumped over Python who wasn't that large, just 3 feet long.</p>\n",
      "Original:   [\"<p>The circus dog in a plissé skirt jumped over Python who wasn't that large, just 3 feet long.</p>\", \"<p>The circus dog in a plissé skirt jumped over Python who wasn't that large, just 3 feet long.</p>\"] \n",
      "\n",
      "Processed:  ['circus dog plisse skirt jump python large foot long', 'circus dog plisse skirt jump python large foot long']\n"
     ]
    }
   ],
   "source": [
    "%run ./Text_Normalization_Function.ipynb"
   ]
  },
  {
   "cell_type": "markdown",
   "metadata": {},
   "source": [
    "Import the required modules:"
   ]
  },
  {
   "cell_type": "code",
   "execution_count": 3,
   "metadata": {},
   "outputs": [],
   "source": [
    "import pandas as pd\n",
    "import numpy as np\n",
    "import sys\n",
    "import nltk\n",
    "import warnings\n",
    "warnings.simplefilter(action='ignore')"
   ]
  },
  {
   "cell_type": "markdown",
   "metadata": {},
   "source": [
    "We will use the VADER lexicon available in NLTK module. You can read a very detailed information on how VADER was created here: http://comp.social.gatech.edu/papers/icwsm14.vader.hutto.pdf\n",
    "\n",
    "Let's download the VADER lexicon and set up the sentiment analysis function that uses that lexicon:"
   ]
  },
  {
   "cell_type": "code",
   "execution_count": 5,
   "metadata": {},
   "outputs": [
    {
     "name": "stdout",
     "output_type": "stream",
     "text": [
      "[nltk_data] Downloading package vader_lexicon to\n",
      "[nltk_data]     /Users/corrine/nltk_data...\n",
      "[nltk_data]   Package vader_lexicon is already up-to-date!\n"
     ]
    }
   ],
   "source": [
    "nltk.download('vader_lexicon')\n",
    "\n",
    "from nltk.sentiment.vader import SentimentIntensityAnalyzer\n",
    "analyzer = SentimentIntensityAnalyzer()"
   ]
  },
  {
   "cell_type": "markdown",
   "metadata": {},
   "source": [
    "Let's explore how VADER assigns sentiment using the simple sentences below (feel free to play around with the sentences!):"
   ]
  },
  {
   "cell_type": "code",
   "execution_count": 6,
   "metadata": {},
   "outputs": [],
   "source": [
    "text_1 = 'I really loved the plot of this movie'\n",
    "text_2 = 'I really hated the plot of this movie'\n",
    "text_3 = 'I really hated the plot of this movie :('"
   ]
  },
  {
   "cell_type": "markdown",
   "metadata": {},
   "source": [
    "The results are below. The **'compound'** score is the overall sentiment polarity/intensity ranging from -1 to 1:"
   ]
  },
  {
   "cell_type": "code",
   "execution_count": 7,
   "metadata": {},
   "outputs": [
    {
     "name": "stdout",
     "output_type": "stream",
     "text": [
      "I really loved the plot of this movie \n",
      "Scores (Vander): {'neg': 0.0, 'neu': 0.589, 'pos': 0.411, 'compound': 0.6361} \n",
      "\n",
      "I really hated the plot of this movie \n",
      "Scores (Vander): {'neg': 0.428, 'neu': 0.572, 'pos': 0.0, 'compound': -0.6697} \n",
      "\n",
      "I really hated the plot of this movie :( \n",
      "Scores (Vander): {'neg': 0.552, 'neu': 0.448, 'pos': 0.0, 'compound': -0.8122} \n",
      "\n"
     ]
    }
   ],
   "source": [
    "print(text_1, \"\\nScores (Vander):\", analyzer.polarity_scores(text_1),\"\\n\")\n",
    "print(text_2, \"\\nScores (Vander):\", analyzer.polarity_scores(text_2),\"\\n\")\n",
    "print(text_3, \"\\nScores (Vander):\", analyzer.polarity_scores(text_3),\"\\n\")"
   ]
  },
  {
   "cell_type": "markdown",
   "metadata": {},
   "source": [
    "Now, let's load the movie reviews data:"
   ]
  },
  {
   "cell_type": "code",
   "execution_count": 10,
   "metadata": {},
   "outputs": [
    {
     "name": "stdout",
     "output_type": "stream",
     "text": [
      "    file_name                                        review_text  polarity\n",
      "0    0_10.txt  I went and saw this movie last night after bei...  positive\n",
      "0  100_10.txt  The finest short I've ever seen. Some commenta...  positive\n",
      "0   101_9.txt  This is a very, very odd film...one that is so...  positive\n",
      "0   102_8.txt  Although Bullet In The Brain is, without quest...  positive\n",
      "0  103_10.txt  ...means \"take up and read\", which is precisel...  positive\n"
     ]
    }
   ],
   "source": [
    "test_data = pd.read_pickle(path + 'mreviews_test.pkl')\n",
    "print(test_data.head())"
   ]
  },
  {
   "cell_type": "markdown",
   "metadata": {},
   "source": [
    "Split the dataframe into reviews text and reviews polarity:"
   ]
  },
  {
   "cell_type": "code",
   "execution_count": 11,
   "metadata": {},
   "outputs": [],
   "source": [
    "test_reviews = np.array(test_data['review_text'])\n",
    "test_sentiments = np.array(test_data['polarity'])"
   ]
  },
  {
   "cell_type": "markdown",
   "metadata": {},
   "source": [
    "Have a look at a couple of reviews and the sentiment polarity labels created by humans:"
   ]
  },
  {
   "cell_type": "code",
   "execution_count": 12,
   "metadata": {},
   "outputs": [
    {
     "name": "stdout",
     "output_type": "stream",
     "text": [
      "Review:-\n",
      "The entire movie, an artful adaptation of one of Joyce's \"Dubliners\" stories, takes place on the night of January 6 (Epiphany), 1906. Most of the film takes place at an annual party given by three spinsters (two sisters and their niece), where a group of upper-class Dubliners gather for an evening of music, recitations and dinner. While there is very little plot per se, the interaction and conversation among the group reveals much about Dublin in the early 20th century when the stirrings for independence were just beginning. The cast, all talented Irish stage actors with the exception of Anjelica Huston, are universally wonderful, and one actually feels he is a guest at the gathering himself. The poignant final scene, between Ms. Huston and the amazing Donal McCann, reveals much about the marriage of the characters. There is poignancy mixed with humor and insight, and for those who like quiet, thoughtful movies, \"The Dead\" is highly recommended. My wife is from Dublin, we make a ritual of watching this wonderful movie every January 6th. After many viewings it never fails to move me, and each time I glean something that I've missed before.\n",
      "Actual Labeled Sentiment: positive\n",
      "\n",
      "Review:-\n",
      "Oh dear! Oh dear! Oh dear!<br /><br />To think that films such as this were made, and probably enjoyed by thousands at drive-ins really boggles the mind. How innocent we were in those days.<br /><br />To put it bluntly, this film is crap. The hero is so wet you can hear his squishy damp footsteps in every scene. My Lord, but he's just one of a whole slew of awful, awful actors that appear in this turkey. No wonder MST3K picked it. The story, such as it is, centres around a stock car driver (who is so incompetent, you really believe it is the actor driving the car) that he gives up and \"gets in with the wrong crowd\" Oooooh! Scary stuff. However, the wrong crowd turn out to be the biker equivalent of The Three Stooges and their \"hand-me round\" slut of a biker chick. As an example of how lame this whole thing is, the writers obviously wracked their brains to come up with a frightening name for the biker gang - if four people can be called a gang, that is. The result? The gang is called Satan's Angels! I kid you not.<br /><br />Such dire acting and dialogue, along with ridiculous scenes, make for a wonderful beer and chips movie. But otherwise its just the worst kind of rubbish.<br /><br />As I said. Once, this may have been considered good. But today it just makes you laugh (and cringe) with every minute that goes by. Avoid it except for a good laugh. And make sure you're more than half-drunk too!\n",
      "Actual Labeled Sentiment: negative\n",
      "\n"
     ]
    }
   ],
   "source": [
    "sample_docs = [100, 700]\n",
    "\n",
    "for doc_index in sample_docs:\n",
    "    print('Review:-')\n",
    "    print(test_reviews[doc_index])\n",
    "    print('Actual Labeled Sentiment:', test_sentiments[doc_index])\n",
    "    print()"
   ]
  },
  {
   "cell_type": "markdown",
   "metadata": {},
   "source": [
    "Let's create a function that scores text using VADER lexicon. The function will return the raw polarity/intensity score and the binary sentiment indicator (positive/negative). The function will use the following rule for assigning binary sentiment: if \"compound\" polarity/intensity score > 0.1 then the review is positive. The threshold of 0.1 is the recommended value."
   ]
  },
  {
   "cell_type": "code",
   "execution_count": 13,
   "metadata": {},
   "outputs": [],
   "source": [
    "def analyze_sentiment_vader_lexicon(review, \n",
    "                                    threshold = 0.1,\n",
    "                                    verbose = False):\n",
    "    \n",
    "    #pre-process text\n",
    "    review = normalize_accented_characters(review)\n",
    "    review = html_parser.unescape(review)\n",
    "    review = strip_html(review)\n",
    "    \n",
    "    #analyze the sentiment for review\n",
    "    analyzer = SentimentIntensityAnalyzer()\n",
    "    scores = analyzer.polarity_scores(review)\n",
    "    \n",
    "    #get binary sentiment\n",
    "    binary_sentiment = 'positive' if scores['compound'] >= threshold\\\n",
    "                                   else 'negative'\n",
    "    \n",
    "    if verbose:\n",
    "        \n",
    "        #display sentiment \n",
    "        sentiment_frame = pd.DataFrame([[binary_sentiment, round(scores['compound'], 2)]],\n",
    "                                        columns=pd.MultiIndex(levels=[['SENTIMENT STATS:'], \n",
    "                                                                      ['Binary Sentiment ', 'Polarity Score']], \n",
    "                                                              labels=[[0,0],[0,1]]))\n",
    "        print(sentiment_frame.to_string(index=False))\n",
    "    \n",
    "    return binary_sentiment,scores['compound']  "
   ]
  },
  {
   "cell_type": "markdown",
   "metadata": {},
   "source": [
    "Now we can apply the function to the sample documents:"
   ]
  },
  {
   "cell_type": "code",
   "execution_count": 14,
   "metadata": {},
   "outputs": [
    {
     "name": "stdout",
     "output_type": "stream",
     "text": [
      "Review:-\n",
      "The entire movie, an artful adaptation of one of Joyce's \"Dubliners\" stories, takes place on the night of January 6 (Epiphany), 1906. Most of the film takes place at an annual party given by three spinsters (two sisters and their niece), where a group of upper-class Dubliners gather for an evening of music, recitations and dinner. While there is very little plot per se, the interaction and conversation among the group reveals much about Dublin in the early 20th century when the stirrings for independence were just beginning. The cast, all talented Irish stage actors with the exception of Anjelica Huston, are universally wonderful, and one actually feels he is a guest at the gathering himself. The poignant final scene, between Ms. Huston and the amazing Donal McCann, reveals much about the marriage of the characters. There is poignancy mixed with humor and insight, and for those who like quiet, thoughtful movies, \"The Dead\" is highly recommended. My wife is from Dublin, we make a ritual of watching this wonderful movie every January 6th. After many viewings it never fails to move me, and each time I glean something that I've missed before.\n",
      "Actual Labeled Sentiment: positive\n",
      "\n",
      "SENTIMENT STATS:               \n",
      "Binary Sentiment  Polarity Score\n",
      "        positive           0.97\n",
      "------------------------------------------------------------\n",
      "Review:-\n",
      "Oh dear! Oh dear! Oh dear!<br /><br />To think that films such as this were made, and probably enjoyed by thousands at drive-ins really boggles the mind. How innocent we were in those days.<br /><br />To put it bluntly, this film is crap. The hero is so wet you can hear his squishy damp footsteps in every scene. My Lord, but he's just one of a whole slew of awful, awful actors that appear in this turkey. No wonder MST3K picked it. The story, such as it is, centres around a stock car driver (who is so incompetent, you really believe it is the actor driving the car) that he gives up and \"gets in with the wrong crowd\" Oooooh! Scary stuff. However, the wrong crowd turn out to be the biker equivalent of The Three Stooges and their \"hand-me round\" slut of a biker chick. As an example of how lame this whole thing is, the writers obviously wracked their brains to come up with a frightening name for the biker gang - if four people can be called a gang, that is. The result? The gang is called Satan's Angels! I kid you not.<br /><br />Such dire acting and dialogue, along with ridiculous scenes, make for a wonderful beer and chips movie. But otherwise its just the worst kind of rubbish.<br /><br />As I said. Once, this may have been considered good. But today it just makes you laugh (and cringe) with every minute that goes by. Avoid it except for a good laugh. And make sure you're more than half-drunk too!\n",
      "Actual Labeled Sentiment: negative\n",
      "\n",
      "SENTIMENT STATS:               \n",
      "Binary Sentiment  Polarity Score\n",
      "        negative          -0.97\n",
      "------------------------------------------------------------\n"
     ]
    }
   ],
   "source": [
    "for doc_index in sample_docs:\n",
    "    print('Review:-')\n",
    "    print(test_reviews[doc_index])\n",
    "    print('Actual Labeled Sentiment:', test_sentiments[doc_index])    \n",
    "    print()    \n",
    "    final_sentiment = analyze_sentiment_vader_lexicon(test_reviews[doc_index],\n",
    "                                                        threshold=0.1,\n",
    "                                                        verbose=True)\n",
    "    print('-'*60)                                                      "
   ]
  },
  {
   "cell_type": "markdown",
   "metadata": {},
   "source": [
    "Let's score all movie reviews in the test dataset:"
   ]
  },
  {
   "cell_type": "code",
   "execution_count": 15,
   "metadata": {},
   "outputs": [],
   "source": [
    "predicted_sentiment_test = pd.DataFrame([analyze_sentiment_vader_lexicon(review, threshold=0.1)\n",
    "                     for review in test_reviews],columns = ['binary sentiment','raw score'])"
   ]
  },
  {
   "cell_type": "code",
   "execution_count": 16,
   "metadata": {},
   "outputs": [
    {
     "data": {
      "text/html": [
       "<div>\n",
       "<style scoped>\n",
       "    .dataframe tbody tr th:only-of-type {\n",
       "        vertical-align: middle;\n",
       "    }\n",
       "\n",
       "    .dataframe tbody tr th {\n",
       "        vertical-align: top;\n",
       "    }\n",
       "\n",
       "    .dataframe thead th {\n",
       "        text-align: right;\n",
       "    }\n",
       "</style>\n",
       "<table border=\"1\" class=\"dataframe\">\n",
       "  <thead>\n",
       "    <tr style=\"text-align: right;\">\n",
       "      <th></th>\n",
       "      <th>binary sentiment</th>\n",
       "      <th>raw score</th>\n",
       "    </tr>\n",
       "  </thead>\n",
       "  <tbody>\n",
       "    <tr>\n",
       "      <th>0</th>\n",
       "      <td>positive</td>\n",
       "      <td>0.7956</td>\n",
       "    </tr>\n",
       "    <tr>\n",
       "      <th>1</th>\n",
       "      <td>positive</td>\n",
       "      <td>0.9818</td>\n",
       "    </tr>\n",
       "    <tr>\n",
       "      <th>2</th>\n",
       "      <td>positive</td>\n",
       "      <td>0.8265</td>\n",
       "    </tr>\n",
       "    <tr>\n",
       "      <th>3</th>\n",
       "      <td>positive</td>\n",
       "      <td>0.4282</td>\n",
       "    </tr>\n",
       "    <tr>\n",
       "      <th>4</th>\n",
       "      <td>positive</td>\n",
       "      <td>0.9850</td>\n",
       "    </tr>\n",
       "  </tbody>\n",
       "</table>\n",
       "</div>"
      ],
      "text/plain": [
       "  binary sentiment  raw score\n",
       "0         positive     0.7956\n",
       "1         positive     0.9818\n",
       "2         positive     0.8265\n",
       "3         positive     0.4282\n",
       "4         positive     0.9850"
      ]
     },
     "execution_count": 16,
     "metadata": {},
     "output_type": "execute_result"
    }
   ],
   "source": [
    "predicted_sentiment_test.head()"
   ]
  },
  {
   "cell_type": "markdown",
   "metadata": {},
   "source": [
    "Have a look at the accuracy and the confusion matrix. "
   ]
  },
  {
   "cell_type": "code",
   "execution_count": 17,
   "metadata": {},
   "outputs": [
    {
     "name": "stdout",
     "output_type": "stream",
     "text": [
      "ACCURACY: 0.7 \n",
      "\n",
      "CONFUSION MATRIX:\n"
     ]
    },
    {
     "data": {
      "text/html": [
       "<div>\n",
       "<style scoped>\n",
       "    .dataframe tbody tr th:only-of-type {\n",
       "        vertical-align: middle;\n",
       "    }\n",
       "\n",
       "    .dataframe tbody tr th {\n",
       "        vertical-align: top;\n",
       "    }\n",
       "\n",
       "    .dataframe thead th {\n",
       "        text-align: right;\n",
       "    }\n",
       "</style>\n",
       "<table border=\"1\" class=\"dataframe\">\n",
       "  <thead>\n",
       "    <tr style=\"text-align: right;\">\n",
       "      <th>Predicted</th>\n",
       "      <th>negative</th>\n",
       "      <th>positive</th>\n",
       "      <th>All</th>\n",
       "    </tr>\n",
       "    <tr>\n",
       "      <th>True</th>\n",
       "      <th></th>\n",
       "      <th></th>\n",
       "      <th></th>\n",
       "    </tr>\n",
       "  </thead>\n",
       "  <tbody>\n",
       "    <tr>\n",
       "      <th>negative</th>\n",
       "      <td>270</td>\n",
       "      <td>230</td>\n",
       "      <td>500</td>\n",
       "    </tr>\n",
       "    <tr>\n",
       "      <th>positive</th>\n",
       "      <td>70</td>\n",
       "      <td>430</td>\n",
       "      <td>500</td>\n",
       "    </tr>\n",
       "    <tr>\n",
       "      <th>All</th>\n",
       "      <td>340</td>\n",
       "      <td>660</td>\n",
       "      <td>1000</td>\n",
       "    </tr>\n",
       "  </tbody>\n",
       "</table>\n",
       "</div>"
      ],
      "text/plain": [
       "Predicted  negative  positive   All\n",
       "True                               \n",
       "negative        270       230   500\n",
       "positive         70       430   500\n",
       "All             340       660  1000"
      ]
     },
     "execution_count": 17,
     "metadata": {},
     "output_type": "execute_result"
    }
   ],
   "source": [
    "from sklearn import metrics\n",
    "\n",
    "print('ACCURACY:', np.round(metrics.accuracy_score(test_sentiments, predicted_sentiment_test['binary sentiment']), 3),\"\\n\")\n",
    "\n",
    "print('CONFUSION MATRIX:')\n",
    "pd.crosstab(pd.Series(test_sentiments), \n",
    "            pd.Series(predicted_sentiment_test['binary sentiment']), \n",
    "            rownames = ['True'], \n",
    "            colnames = ['Predicted'], \n",
    "            margins = True)"
   ]
  },
  {
   "cell_type": "markdown",
   "metadata": {},
   "source": [
    "**EXERCISE 1:** \n",
    "\n",
    "**a. Do you remember what was the accuracy rate when you trained a support vector machine model during our last lab? It was higher, right? What could be the reason?**\n",
    "There might be some normalization issue as we can see from the compound score shown.\n",
    "\n",
    "**b. What is this sentiment analysis tool's precision (true positives / (true positives + false positives))?** \n",
    "430 / 660 = 0.65\n",
    "\n",
    "**c. What is its recall rate (true positives / (true positives + false negatives))?**\n",
    "430 / 500 = 0.86"
   ]
  },
  {
   "cell_type": "markdown",
   "metadata": {},
   "source": [
    "Have a look at raw palrity/intensity scores assigned to positive reviews:"
   ]
  },
  {
   "cell_type": "code",
   "execution_count": 18,
   "metadata": {},
   "outputs": [
    {
     "data": {
      "image/png": "[encoded data removed]",
      "text/plain": [
       "<Figure size 432x288 with 1 Axes>"
      ]
     },
     "metadata": {},
     "output_type": "display_data"
    }
   ],
   "source": [
    "import matplotlib.pyplot as plt\n",
    "\n",
    "x = range(0, 500)\n",
    "pos_reviews_scored = predicted_sentiment_test[:500]['raw score']\n",
    "plt.bar(x, pos_reviews_scored.sort_values(ascending=False))\n",
    "plt.xlabel(\"reviews with positive actual labeled sentiment\")\n",
    "plt.ylabel(\"polarity scores\")\n",
    "plt.show()"
   ]
  },
  {
   "cell_type": "markdown",
   "metadata": {},
   "source": [
    "Now, have a look at the raw polarity/intensity scores assigned to negative reviews:"
   ]
  },
  {
   "cell_type": "code",
   "execution_count": 19,
   "metadata": {},
   "outputs": [
    {
     "data": {
      "image/png": "[encoded data removed]",
      "text/plain": [
       "<Figure size 432x288 with 1 Axes>"
      ]
     },
     "metadata": {},
     "output_type": "display_data"
    }
   ],
   "source": [
    "x = range(0, 500)\n",
    "neg_reviews_scored = predicted_sentiment_test[500:1000]['raw score']\n",
    "plt.bar(x, neg_reviews_scored.sort_values(ascending=True))\n",
    "plt.xlabel(\"reviews with negative actual labeled sentiment\")\n",
    "plt.ylabel(\"polarity scores\")\n",
    "plt.show()"
   ]
  },
  {
   "cell_type": "markdown",
   "metadata": {},
   "source": [
    "Define a function that computes accuracy rate for different value of the threshold (the threshold was set to 0.1 in our original analysis):"
   ]
  },
  {
   "cell_type": "code",
   "execution_count": 20,
   "metadata": {},
   "outputs": [],
   "source": [
    "def try_threshold(polarity_scores, threshold_for_pos):\n",
    "    binary_scores = ['positive' if s >= threshold_for_pos\n",
    "                                   else 'negative' for s in list(polarity_scores)]\n",
    "    accuracy = metrics.accuracy_score(test_sentiments, binary_scores)\n",
    "    return(accuracy) \n"
   ]
  },
  {
   "cell_type": "markdown",
   "metadata": {},
   "source": [
    "Aplly this function to score the movie reviews using the threshold value = 0.5:"
   ]
  },
  {
   "cell_type": "code",
   "execution_count": 21,
   "metadata": {},
   "outputs": [
    {
     "name": "stdout",
     "output_type": "stream",
     "text": [
      "Accuracy rate:  0.712\n"
     ]
    }
   ],
   "source": [
    "threshold = 0.5\n",
    "print(\"Accuracy rate: \", try_threshold(predicted_sentiment_test['raw score'],threshold))\n"
   ]
  },
  {
   "cell_type": "markdown",
   "metadata": {},
   "source": [
    "Explore the changes in accuracy rate for a range of thresholds from -1 to 1:"
   ]
  },
  {
   "cell_type": "code",
   "execution_count": 22,
   "metadata": {},
   "outputs": [
    {
     "data": {
      "image/png": "[encoded data removed]",
      "text/plain": [
       "<Figure size 432x288 with 1 Axes>"
      ]
     },
     "metadata": {},
     "output_type": "display_data"
    }
   ],
   "source": [
    "thresholds = np.linspace(-1,1,1000)\n",
    "acc = [try_threshold(predicted_sentiment_test['raw score'],threshold) for threshold in thresholds]\n",
    "\n",
    "plt.plot(thresholds, acc)\n",
    "plt.xlabel(\"threshold score for positive binary sentiment\")\n",
    "plt.ylabel(\"accuracy\")\n",
    "plt.show()"
   ]
  },
  {
   "cell_type": "markdown",
   "metadata": {},
   "source": [
    "**EXERCISE 2:**\n",
    "\n",
    "**a. What is the threshold value that maximizes the prediction accuracy rate?**\n",
    "\n",
    "around 0.8\n",
    "\n",
    "**b. What is the threshold value that maximizes the precision of the prediction? What about the recall?**\n",
    "-1 for recall score, and 1 for precision score.\n",
    "\n",
    "For question b, you can re-define the function \"try_threshold\" to make use of the following lines that utilize functions recall_score and precision_score:\n",
    "\n",
    "print('Recall:', np.round(metrics.recall_score(test_sentiments, \n",
    "                                               binary_scores,\n",
    "                                               pos_label='positive'), 3),\"\\n\")\n",
    "\n",
    "print('Recall:', np.round(metrics.precision_score(test_sentiments, \n",
    "                                               binary_scores,\n",
    "                                               pos_label='positive'), 3),\"\\n\")"
   ]
  },
  {
   "cell_type": "code",
   "execution_count": 29,
   "metadata": {},
   "outputs": [],
   "source": [
    "def try_threshold(polarity_scores, threshold_for_pos):\n",
    "    binary_scores = ['positive' if s >= threshold_for_pos\n",
    "                                   else 'negative' for s in list(polarity_scores)]\n",
    "    accuracy = np.round(metrics.recall_score(test_sentiments, \n",
    "                                               binary_scores,\n",
    "                                               pos_label='positive'), 3)\n",
    "    return(accuracy) \n"
   ]
  },
  {
   "cell_type": "code",
   "execution_count": 30,
   "metadata": {},
   "outputs": [
    {
     "data": {
      "image/png": "[encoded data removed]",
      "text/plain": [
       "<Figure size 432x288 with 1 Axes>"
      ]
     },
     "metadata": {},
     "output_type": "display_data"
    }
   ],
   "source": [
    "thresholds = np.linspace(-1,1,1000)\n",
    "acc = [try_threshold(predicted_sentiment_test['raw score'],threshold) for threshold in thresholds]\n",
    "\n",
    "plt.plot(thresholds, acc)\n",
    "plt.xlabel(\"threshold score for positive binary sentiment\")\n",
    "plt.ylabel(\"accuracy\")\n",
    "plt.show()"
   ]
  },
  {
   "cell_type": "code",
   "execution_count": 31,
   "metadata": {},
   "outputs": [],
   "source": [
    "def try_threshold(polarity_scores, threshold_for_pos):\n",
    "    binary_scores = ['positive' if s >= threshold_for_pos\n",
    "                                   else 'negative' for s in list(polarity_scores)]\n",
    "    accuracy = np.round(metrics.precision_score(test_sentiments, \n",
    "                                               binary_scores,\n",
    "                                               pos_label='positive'), 3)\n",
    "    return(accuracy) \n"
   ]
  },
  {
   "cell_type": "code",
   "execution_count": 32,
   "metadata": {},
   "outputs": [
    {
     "data": {
      "image/png": "[encoded data removed]",
      "text/plain": [
       "<Figure size 432x288 with 1 Axes>"
      ]
     },
     "metadata": {},
     "output_type": "display_data"
    }
   ],
   "source": [
    "thresholds = np.linspace(-1,1,1000)\n",
    "acc = [try_threshold(predicted_sentiment_test['raw score'],threshold) for threshold in thresholds]\n",
    "\n",
    "plt.plot(thresholds, acc)\n",
    "plt.xlabel(\"threshold score for positive binary sentiment\")\n",
    "plt.ylabel(\"accuracy\")\n",
    "plt.show()"
   ]
  },
  {
   "cell_type": "code",
   "execution_count": null,
   "metadata": {},
   "outputs": [],
   "source": []
  }
 ],
 "metadata": {
  "kernelspec": {
   "display_name": "Python 3",
   "language": "python",
   "name": "python3"
  },
  "language_info": {
   "codemirror_mode": {
    "name": "ipython",
    "version": 3
   },
   "file_extension": ".py",
   "mimetype": "text/x-python",
   "name": "python",
   "nbconvert_exporter": "python",
   "pygments_lexer": "ipython3",
   "version": "3.6.5"
  }
 },
 "nbformat": 4,
 "nbformat_minor": 2
}
