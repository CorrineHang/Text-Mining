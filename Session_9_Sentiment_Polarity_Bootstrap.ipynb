{
 "cells": [
  {
   "cell_type": "markdown",
   "metadata": {},
   "source": [
    "**LAB: SENTIMENT ANALYSIS - Supervised Machine Learning**"
   ]
  },
  {
   "cell_type": "markdown",
   "metadata": {},
   "source": [
    "We'll use a movie reviews dataset provided on the Blackboard. Look inside of the folder to see how the data are organized. \n",
    "\n",
    "Set the path to the reviews folder to use later in the script:"
   ]
  },
  {
   "cell_type": "code",
   "execution_count": 10,
   "metadata": {},
   "outputs": [],
   "source": [
    "path = '/Users/corrine/Documents/Data Courses/Text Mining'"
   ]
  },
  {
   "cell_type": "markdown",
   "metadata": {},
   "source": [
    "NOTE: We'll use the text normalization function defined earlier in the course. The function is defined in Text_Normalization_Function.ipynb notebook. The Text_Normalization_Function.ipynb file should be in the same folder as the notebook you are using right now. The following line "
   ]
  },
  {
   "cell_type": "code",
   "execution_count": 2,
   "metadata": {},
   "outputs": [
    {
     "name": "stdout",
     "output_type": "stream",
     "text": [
      "Collecting html.parser\n",
      "Requirement already satisfied: ply in /anaconda3/lib/python3.6/site-packages (from html.parser) (3.11)\n",
      "Installing collected packages: html.parser\n",
      "Successfully installed html.parser\n",
      "Requirement already satisfied: pattern3 in /anaconda3/lib/python3.6/site-packages (3.0.0)\n",
      "Requirement already satisfied: pdfminer3k in /anaconda3/lib/python3.6/site-packages (from pattern3) (1.3.1)\n",
      "Requirement already satisfied: simplejson in /anaconda3/lib/python3.6/site-packages (from pattern3) (3.16.0)\n",
      "Requirement already satisfied: cherrypy in /anaconda3/lib/python3.6/site-packages (from pattern3) (18.1.1)\n",
      "Requirement already satisfied: feedparser in /anaconda3/lib/python3.6/site-packages (from pattern3) (5.2.1)\n",
      "Requirement already satisfied: beautifulsoup4 in /anaconda3/lib/python3.6/site-packages (from pattern3) (4.6.0)\n",
      "Requirement already satisfied: docx in /anaconda3/lib/python3.6/site-packages (from pattern3) (0.2.4)\n",
      "Requirement already satisfied: pdfminer.six in /anaconda3/lib/python3.6/site-packages (from pattern3) (20181108)\n",
      "Requirement already satisfied: pytest>=2.0 in /anaconda3/lib/python3.6/site-packages (from pdfminer3k->pattern3) (3.5.1)\n",
      "Requirement already satisfied: ply>=3.4 in /anaconda3/lib/python3.6/site-packages (from pdfminer3k->pattern3) (3.11)\n",
      "Requirement already satisfied: zc.lockfile in /anaconda3/lib/python3.6/site-packages (from cherrypy->pattern3) (1.4)\n",
      "Requirement already satisfied: portend>=2.1.1 in /anaconda3/lib/python3.6/site-packages (from cherrypy->pattern3) (2.3)\n",
      "Requirement already satisfied: more-itertools in /anaconda3/lib/python3.6/site-packages (from cherrypy->pattern3) (4.1.0)\n",
      "Requirement already satisfied: cheroot>=6.2.4 in /anaconda3/lib/python3.6/site-packages (from cherrypy->pattern3) (6.5.4)\n",
      "Requirement already satisfied: Pillow>=2.0 in /anaconda3/lib/python3.6/site-packages (from docx->pattern3) (5.1.0)\n",
      "Requirement already satisfied: lxml in /anaconda3/lib/python3.6/site-packages (from docx->pattern3) (4.2.1)\n",
      "Requirement already satisfied: pycryptodome in /anaconda3/lib/python3.6/site-packages (from pdfminer.six->pattern3) (3.8.1)\n",
      "Requirement already satisfied: six in /anaconda3/lib/python3.6/site-packages (from pdfminer.six->pattern3) (1.11.0)\n",
      "Requirement already satisfied: sortedcontainers in /anaconda3/lib/python3.6/site-packages (from pdfminer.six->pattern3) (1.5.10)\n",
      "Requirement already satisfied: py>=1.5.0 in /anaconda3/lib/python3.6/site-packages (from pytest>=2.0->pdfminer3k->pattern3) (1.5.3)\n",
      "Requirement already satisfied: setuptools in /anaconda3/lib/python3.6/site-packages (from pytest>=2.0->pdfminer3k->pattern3) (39.1.0)\n",
      "Requirement already satisfied: attrs>=17.4.0 in /anaconda3/lib/python3.6/site-packages (from pytest>=2.0->pdfminer3k->pattern3) (18.1.0)\n",
      "Requirement already satisfied: pluggy<0.7,>=0.5 in /anaconda3/lib/python3.6/site-packages (from pytest>=2.0->pdfminer3k->pattern3) (0.6.0)\n",
      "Requirement already satisfied: tempora>=1.8 in /anaconda3/lib/python3.6/site-packages (from portend>=2.1.1->cherrypy->pattern3) (1.14)\n",
      "Requirement already satisfied: backports.functools-lru-cache in /anaconda3/lib/python3.6/site-packages (from cheroot>=6.2.4->cherrypy->pattern3) (1.5)\n",
      "Requirement already satisfied: pytz in /anaconda3/lib/python3.6/site-packages (from tempora>=1.8->portend>=2.1.1->cherrypy->pattern3) (2018.4)\n",
      "Requirement already satisfied: jaraco.functools>=1.20 in /anaconda3/lib/python3.6/site-packages (from tempora>=1.8->portend>=2.1.1->cherrypy->pattern3) (2.0)\n",
      "Requirement already satisfied: pyLDAvis in /anaconda3/lib/python3.6/site-packages (2.1.2)\n",
      "Requirement already satisfied: pytest in /anaconda3/lib/python3.6/site-packages (from pyLDAvis) (3.5.1)\n",
      "Requirement already satisfied: funcy in /anaconda3/lib/python3.6/site-packages (from pyLDAvis) (1.11)\n",
      "Requirement already satisfied: numpy>=1.9.2 in /anaconda3/lib/python3.6/site-packages (from pyLDAvis) (1.14.3)\n",
      "Requirement already satisfied: wheel>=0.23.0 in /anaconda3/lib/python3.6/site-packages (from pyLDAvis) (0.31.1)\n",
      "Requirement already satisfied: future in /anaconda3/lib/python3.6/site-packages (from pyLDAvis) (0.17.1)\n",
      "Requirement already satisfied: jinja2>=2.7.2 in /anaconda3/lib/python3.6/site-packages (from pyLDAvis) (2.10)\n",
      "Requirement already satisfied: joblib>=0.8.4 in /anaconda3/lib/python3.6/site-packages (from pyLDAvis) (0.13.2)\n",
      "Requirement already satisfied: scipy>=0.18.0 in /anaconda3/lib/python3.6/site-packages (from pyLDAvis) (1.1.0)\n",
      "Requirement already satisfied: numexpr in /anaconda3/lib/python3.6/site-packages (from pyLDAvis) (2.6.5)\n",
      "Requirement already satisfied: pandas>=0.17.0 in /anaconda3/lib/python3.6/site-packages (from pyLDAvis) (0.23.0)\n",
      "Requirement already satisfied: py>=1.5.0 in /anaconda3/lib/python3.6/site-packages (from pytest->pyLDAvis) (1.5.3)\n",
      "Requirement already satisfied: six>=1.10.0 in /anaconda3/lib/python3.6/site-packages (from pytest->pyLDAvis) (1.11.0)\n",
      "Requirement already satisfied: setuptools in /anaconda3/lib/python3.6/site-packages (from pytest->pyLDAvis) (39.1.0)\n",
      "Requirement already satisfied: attrs>=17.4.0 in /anaconda3/lib/python3.6/site-packages (from pytest->pyLDAvis) (18.1.0)\n",
      "Requirement already satisfied: more-itertools>=4.0.0 in /anaconda3/lib/python3.6/site-packages (from pytest->pyLDAvis) (4.1.0)\n",
      "Requirement already satisfied: pluggy<0.7,>=0.5 in /anaconda3/lib/python3.6/site-packages (from pytest->pyLDAvis) (0.6.0)\n",
      "Requirement already satisfied: MarkupSafe>=0.23 in /anaconda3/lib/python3.6/site-packages (from jinja2>=2.7.2->pyLDAvis) (1.0)\n",
      "Requirement already satisfied: python-dateutil>=2.5.0 in /anaconda3/lib/python3.6/site-packages (from pandas>=0.17.0->pyLDAvis) (2.7.3)\n",
      "Requirement already satisfied: pytz>=2011k in /anaconda3/lib/python3.6/site-packages (from pandas>=0.17.0->pyLDAvis) (2018.4)\n",
      "Original:   <p>The circus dog in a plissé skirt jumped over Python who wasn't that large, just 3 feet long.</p>\n",
      "Processed:  ['<', 'p', '>', 'The', 'circus', 'dog', 'in', 'a', 'plissé', 'skirt', 'jumped', 'over', 'Python', 'who', 'was', \"n't\", 'that', 'large', ',', 'just', '3', 'feet', 'long.', '<', '/p', '>']\n",
      "Original:   <p>The circus dog in a plissé skirt jumped over Python who wasn't that large, just 3 feet long.</p>\n",
      "Processed:  <p>The circus dog in a plissé skirt jumped over Python who was not that large, just 3 feet long.</p>\n",
      "Original:   <p>The circus dog in a plissé skirt jumped over Python who wasn't that large, just 3 feet long.</p>\n",
      "Processed:  [('<', 'a'), ('p', 'n'), ('>', 'v'), ('the', None), ('circus', 'n'), ('dog', 'n'), ('in', None), ('a', None), ('plissé', 'n'), ('skirt', 'n'), ('jumped', 'v'), ('over', None), ('python', 'n'), ('who', None), ('was', 'v'), (\"n't\", 'r'), ('that', None), ('large', 'a'), (',', None), ('just', 'r'), ('3', None), ('feet', 'n'), ('long.', 'a'), ('<', 'n'), ('/p', 'n'), ('>', 'n')]\n",
      "Original:   <p>The circus dog in a plissé skirt jumped over Python who wasn't that large, just 3 feet long.</p>\n",
      "Processed:  < p > the circus dog in a plissé skirt jump over python who be n't that large , just 3 foot long. < /p >\n",
      "Original:   <p>The circus dog in a plissé skirt jumped over Python who wasn't that large, just 3 feet long.</p>\n",
      "Processed:    p   The circus dog in a plissé skirt jumped over Python who was n t that large   just 3 feet long     p  \n",
      "Original:   <p>The circus dog in a plissé skirt jumped over Python who wasn't that large, just 3 feet long.</p>\n",
      "Processed:  < p > The circus dog plissé skirt jumped Python n't large , 3 feet long. < /p >\n",
      "Original:   <p>The circus dog in a plissé skirt jumped over Python who wasn't that large, just 3 feet long.</p>\n",
      "Processed:  p The circus dog in a plissé skirt jumped over Python who was n't that large just feet long. /p\n",
      "Original:   <p>The circus dog in a plissé skirt jumped over Python who wasn't that large, just 3 feet long.</p>\n",
      "Processed:  The circus dog in a plissé skirt jumped over Python who wasn't that large, just 3 feet long.\n",
      "Original:   <p>The circus dog in a plissé skirt jumped over Python who wasn't that large, just 3 feet long.</p>\n",
      "Processed:  <p>The circus dog in a plisse skirt jumped over Python who wasn't that large, just 3 feet long.</p>\n",
      "Original:   [\"<p>The circus dog in a plissé skirt jumped over Python who wasn't that large, just 3 feet long.</p>\", \"<p>The circus dog in a plissé skirt jumped over Python who wasn't that large, just 3 feet long.</p>\"] \n",
      "\n",
      "Processed:  ['circus dog plisse skirt jump python large foot long', 'circus dog plisse skirt jump python large foot long']\n"
     ]
    }
   ],
   "source": [
    "%run ./Text_Normalization_Function.ipynb"
   ]
  },
  {
   "cell_type": "markdown",
   "metadata": {},
   "source": [
    "Make sure the text normalization function is working properly by running it on the test corpus below:"
   ]
  },
  {
   "cell_type": "code",
   "execution_count": 3,
   "metadata": {},
   "outputs": [
    {
     "name": "stdout",
     "output_type": "stream",
     "text": [
      "Original corpus:   [\"<p>The circus dog in a plissé skirt jumped over Python who wasn't that large, just 3 feet long.</p>\", \"<p>The circus dog in a plissé skirt jumped over Python who wasn't that large, just 3 feet long.</p>\"] \n",
      "\n",
      "Processed corpus:  ['circus dog plisse skirt jump python large foot long', 'circus dog plisse skirt jump python large foot long']\n"
     ]
    }
   ],
   "source": [
    "test_text = \"<p>The circus dog in a plissé skirt jumped over Python who wasn't that large, just 3 feet long.</p>\"\n",
    "test_corpus = [test_text]\n",
    "test_corpus.append(test_text)\n",
    "normalized_test_corpus = normalize_corpus(test_corpus)\n",
    "\n",
    "print(\"Original corpus:  \", test_corpus,\"\\n\")\n",
    "print(\"Processed corpus: \", normalize_corpus(test_corpus))"
   ]
  },
  {
   "cell_type": "markdown",
   "metadata": {},
   "source": [
    "Import the modules we'll use:"
   ]
  },
  {
   "cell_type": "code",
   "execution_count": 4,
   "metadata": {},
   "outputs": [],
   "source": [
    "from sklearn import metrics \n",
    "import numpy as np \n",
    "import pandas as pd \n",
    "import glob, os  \n",
    "from sklearn.feature_extraction.text import CountVectorizer, TfidfVectorizer "
   ]
  },
  {
   "cell_type": "markdown",
   "metadata": {},
   "source": [
    "Read the data:\n",
    "... training data for negative reviews:"
   ]
  },
  {
   "cell_type": "code",
   "execution_count": 11,
   "metadata": {},
   "outputs": [],
   "source": [
    "train_reviews_neg = glob.glob(path + '/reviews/train/neg/*.txt')\n",
    "d_neg = list()\n",
    "for review_file in train_reviews_neg:\n",
    "    with open(review_file) as f:\n",
    "        review = os.path.basename(review_file)\n",
    "        d_neg.append(pd.DataFrame({'file_name': review, 'review_text': f.readlines(), 'polarity': 'negative'}))"
   ]
  },
  {
   "cell_type": "markdown",
   "metadata": {},
   "source": [
    "... training data for positive reviews:"
   ]
  },
  {
   "cell_type": "code",
   "execution_count": 12,
   "metadata": {},
   "outputs": [],
   "source": [
    "train_reviews_pos = glob.glob(path + '/reviews/train/pos/*.txt')\n",
    "d_pos = list()\n",
    "for review_file in train_reviews_pos:\n",
    "    with open(review_file) as f:\n",
    "        review = os.path.basename(review_file)\n",
    "        d_pos.append(pd.DataFrame({'file_name': review, 'review_text': f.readlines(), 'polarity': 'positive'}))"
   ]
  },
  {
   "cell_type": "markdown",
   "metadata": {},
   "source": [
    "Combine positive and negative training sets:"
   ]
  },
  {
   "cell_type": "code",
   "execution_count": 13,
   "metadata": {},
   "outputs": [
    {
     "name": "stdout",
     "output_type": "stream",
     "text": [
      "Train data shape:  (1000, 3)\n"
     ]
    },
    {
     "data": {
      "text/html": [
       "<div>\n",
       "<style scoped>\n",
       "    .dataframe tbody tr th:only-of-type {\n",
       "        vertical-align: middle;\n",
       "    }\n",
       "\n",
       "    .dataframe tbody tr th {\n",
       "        vertical-align: top;\n",
       "    }\n",
       "\n",
       "    .dataframe thead th {\n",
       "        text-align: right;\n",
       "    }\n",
       "</style>\n",
       "<table border=\"1\" class=\"dataframe\">\n",
       "  <thead>\n",
       "    <tr style=\"text-align: right;\">\n",
       "      <th></th>\n",
       "      <th>file_name</th>\n",
       "      <th>review_text</th>\n",
       "      <th>polarity</th>\n",
       "    </tr>\n",
       "  </thead>\n",
       "  <tbody>\n",
       "    <tr>\n",
       "      <th>0</th>\n",
       "      <td>12390_8.txt</td>\n",
       "      <td>Bizarre horror movie filled with famous faces ...</td>\n",
       "      <td>positive</td>\n",
       "    </tr>\n",
       "    <tr>\n",
       "      <th>0</th>\n",
       "      <td>58_9.txt</td>\n",
       "      <td>Caught the tail end of this movie channel surf...</td>\n",
       "      <td>positive</td>\n",
       "    </tr>\n",
       "    <tr>\n",
       "      <th>0</th>\n",
       "      <td>12480_10.txt</td>\n",
       "      <td>this movie has a great message,a impressive ca...</td>\n",
       "      <td>positive</td>\n",
       "    </tr>\n",
       "    <tr>\n",
       "      <th>0</th>\n",
       "      <td>72_7.txt</td>\n",
       "      <td>I just recently watched this 1954 movie starri...</td>\n",
       "      <td>positive</td>\n",
       "    </tr>\n",
       "    <tr>\n",
       "      <th>0</th>\n",
       "      <td>165_7.txt</td>\n",
       "      <td>One of my favorite scenes is at the beginning ...</td>\n",
       "      <td>positive</td>\n",
       "    </tr>\n",
       "  </tbody>\n",
       "</table>\n",
       "</div>"
      ],
      "text/plain": [
       "      file_name                                        review_text  polarity\n",
       "0   12390_8.txt  Bizarre horror movie filled with famous faces ...  positive\n",
       "0      58_9.txt  Caught the tail end of this movie channel surf...  positive\n",
       "0  12480_10.txt  this movie has a great message,a impressive ca...  positive\n",
       "0      72_7.txt  I just recently watched this 1954 movie starri...  positive\n",
       "0     165_7.txt  One of my favorite scenes is at the beginning ...  positive"
      ]
     },
     "execution_count": 13,
     "metadata": {},
     "output_type": "execute_result"
    }
   ],
   "source": [
    "doc_train = pd.concat(d_pos + d_neg)\n",
    "print(\"Train data shape: \", doc_train.shape)\n",
    "doc_train.head()"
   ]
  },
  {
   "cell_type": "markdown",
   "metadata": {},
   "source": [
    "Read the test dataset:"
   ]
  },
  {
   "cell_type": "code",
   "execution_count": 14,
   "metadata": {},
   "outputs": [],
   "source": [
    "test_reviews_pos = glob.glob(path + '/reviews/test/pos/*.txt')\n",
    "test_d_pos = list()\n",
    "for review_file in test_reviews_pos:\n",
    "    with open(review_file) as f:\n",
    "        review = os.path.basename(review_file)\n",
    "        test_d_pos.append(pd.DataFrame({'file_name': review, 'review_text': f.readlines(), 'polarity': 'positive'}))"
   ]
  },
  {
   "cell_type": "code",
   "execution_count": 15,
   "metadata": {},
   "outputs": [],
   "source": [
    "test_reviews_neg = glob.glob(path + '/reviews/test/neg/*.txt')\n",
    "test_d_neg = list()\n",
    "for review_file in test_reviews_neg:\n",
    "    with open(review_file) as f:\n",
    "        review = os.path.basename(review_file)\n",
    "        test_d_neg.append(pd.DataFrame({'file_name': review, 'review_text': f.readlines(), 'polarity': 'negative'}))"
   ]
  },
  {
   "cell_type": "code",
   "execution_count": 16,
   "metadata": {},
   "outputs": [
    {
     "name": "stdout",
     "output_type": "stream",
     "text": [
      "Test data shape:  (1000, 3)\n"
     ]
    },
    {
     "data": {
      "text/html": [
       "<div>\n",
       "<style scoped>\n",
       "    .dataframe tbody tr th:only-of-type {\n",
       "        vertical-align: middle;\n",
       "    }\n",
       "\n",
       "    .dataframe tbody tr th {\n",
       "        vertical-align: top;\n",
       "    }\n",
       "\n",
       "    .dataframe thead th {\n",
       "        text-align: right;\n",
       "    }\n",
       "</style>\n",
       "<table border=\"1\" class=\"dataframe\">\n",
       "  <thead>\n",
       "    <tr style=\"text-align: right;\">\n",
       "      <th></th>\n",
       "      <th>file_name</th>\n",
       "      <th>review_text</th>\n",
       "      <th>polarity</th>\n",
       "    </tr>\n",
       "  </thead>\n",
       "  <tbody>\n",
       "    <tr>\n",
       "      <th>0</th>\n",
       "      <td>147_10.txt</td>\n",
       "      <td>Of the Korean movies I've seen, only three had...</td>\n",
       "      <td>positive</td>\n",
       "    </tr>\n",
       "    <tr>\n",
       "      <th>0</th>\n",
       "      <td>12363_7.txt</td>\n",
       "      <td>I have just finished watching this film for th...</td>\n",
       "      <td>positive</td>\n",
       "    </tr>\n",
       "    <tr>\n",
       "      <th>0</th>\n",
       "      <td>165_7.txt</td>\n",
       "      <td>Three children are born during a solar eclipse...</td>\n",
       "      <td>positive</td>\n",
       "    </tr>\n",
       "    <tr>\n",
       "      <th>0</th>\n",
       "      <td>159_10.txt</td>\n",
       "      <td>If you love Chan-wook Park, you know what to e...</td>\n",
       "      <td>positive</td>\n",
       "    </tr>\n",
       "    <tr>\n",
       "      <th>0</th>\n",
       "      <td>198_7.txt</td>\n",
       "      <td>Russian actress TATIANA SAMOILOVA reminds me s...</td>\n",
       "      <td>positive</td>\n",
       "    </tr>\n",
       "  </tbody>\n",
       "</table>\n",
       "</div>"
      ],
      "text/plain": [
       "     file_name                                        review_text  polarity\n",
       "0   147_10.txt  Of the Korean movies I've seen, only three had...  positive\n",
       "0  12363_7.txt  I have just finished watching this film for th...  positive\n",
       "0    165_7.txt  Three children are born during a solar eclipse...  positive\n",
       "0   159_10.txt  If you love Chan-wook Park, you know what to e...  positive\n",
       "0    198_7.txt  Russian actress TATIANA SAMOILOVA reminds me s...  positive"
      ]
     },
     "execution_count": 16,
     "metadata": {},
     "output_type": "execute_result"
    }
   ],
   "source": [
    "doc_test = pd.concat(test_d_pos + test_d_neg)\n",
    "print(\"Test data shape: \", doc_test.shape)\n",
    "doc_test.head()"
   ]
  },
  {
   "cell_type": "code",
   "execution_count": 17,
   "metadata": {},
   "outputs": [],
   "source": [
    "norm_reviews_train = normalize_corpus(doc_train['review_text'])\n",
    "norm_reviews_test = normalize_corpus(doc_test['review_text'])"
   ]
  },
  {
   "cell_type": "code",
   "execution_count": 18,
   "metadata": {},
   "outputs": [
    {
     "name": "stdout",
     "output_type": "stream",
     "text": [
      "RAW TEXT:  Of the Korean movies I've seen, only three had really stuck with me. The first is the excellent horror A Tale of Two Sisters. The second and third - and now fourth too - have all been Park Chan Wook's movies, namely Oldboy, Sympathy for Lady Vengeance), and now Thirst. <br /><br />Park kinda reminds me of Quentin Tarantino with his irreverence towards convention. All his movies are shocking, but not in a gratuitous sense. It's more like he shows us what we don't expect to see - typically situations that go radically against society's morals, like incest or a libidinous, blood-sucking, yet devout priest. He's also quite artistically-inclined with regards to cinematography, and his movies are among the more gorgeous that I've seen.<br /><br />Thirst is all that - being about said priest and the repressed, conscience-less woman he falls for - and more. It's horror, drama, and even comedy, as Park disarms his audience with many inappropriate yet humorous situations. As such, this might be his best work for me yet, since his other two movies that I've seen were lacking the humor element that would've made them more palatable for repeat viewings.\n",
      "\n",
      "NORMALIZED TEXT:  korean movie really stick first excellent horror tale sister second third fourth park chan wooks movie namely oldboy sympathy lady vengeance thirst park kinda remind quentin tarantino irreverence towards convention movie shock gratuitous sense like show us expect typically situation radically societys moral like incest libidinous blood sucking yet devout priest quite artistically inclined regard cinematography movie among gorgeous thirst priest repressed conscience less woman fall horror drama even comedy park disarm audience many inappropriate yet humorous situation might best work yet since movie lack humor element palatable repeat viewing\n"
     ]
    }
   ],
   "source": [
    "print('RAW TEXT: ', np.array(doc_test['review_text'])[0])\n",
    "print()\n",
    "print('NORMALIZED TEXT: ', norm_reviews_test[0])"
   ]
  },
  {
   "cell_type": "markdown",
   "metadata": {},
   "source": [
    "Create features (vectorize text data) using tfidf approach and choose n-gram size (e.g., option ngram_range = (1,2) will creat uni-grams and bi-grams while option ngram_range = (2,2) will creat only bi-grams). \n",
    "\n",
    "We will create two models of text, one with uni-grams and bi-grams (original) and one with uni-grams only (alternative):"
   ]
  },
  {
   "cell_type": "code",
   "execution_count": 19,
   "metadata": {},
   "outputs": [],
   "source": [
    "vectorizer = TfidfVectorizer(ngram_range = (1,2)) \n",
    "feature_matrix_TRAIN = vectorizer.fit_transform(norm_reviews_train).astype(float)\n",
    "\n",
    "vectorizer_alt = TfidfVectorizer(ngram_range = (1,1)) \n",
    "feature_matrix_TRAIN_alt = vectorizer_alt.fit_transform(norm_reviews_train).astype(float)"
   ]
  },
  {
   "cell_type": "markdown",
   "metadata": {},
   "source": [
    "Have a look at the feature matrix with unigrams and bi-grams for the training data (vectorized training data) and note the n-grams:"
   ]
  },
  {
   "cell_type": "code",
   "execution_count": 20,
   "metadata": {},
   "outputs": [
    {
     "data": {
      "text/html": [
       "<div>\n",
       "<style scoped>\n",
       "    .dataframe tbody tr th:only-of-type {\n",
       "        vertical-align: middle;\n",
       "    }\n",
       "\n",
       "    .dataframe tbody tr th {\n",
       "        vertical-align: top;\n",
       "    }\n",
       "\n",
       "    .dataframe thead th {\n",
       "        text-align: right;\n",
       "    }\n",
       "</style>\n",
       "<table border=\"1\" class=\"dataframe\">\n",
       "  <thead>\n",
       "    <tr style=\"text-align: right;\">\n",
       "      <th></th>\n",
       "      <th>00pm</th>\n",
       "      <th>00pm castro</th>\n",
       "      <th>00pm us</th>\n",
       "      <th>100m</th>\n",
       "      <th>100m budget</th>\n",
       "      <th>100th</th>\n",
       "      <th>100th grade</th>\n",
       "      <th>13th</th>\n",
       "      <th>13th film</th>\n",
       "      <th>13th part</th>\n",
       "      <th>...</th>\n",
       "      <th>zorro</th>\n",
       "      <th>zorro hell</th>\n",
       "      <th>zsigmond</th>\n",
       "      <th>zsigmond future</th>\n",
       "      <th>zu</th>\n",
       "      <th>zu neuen</th>\n",
       "      <th>zu warrior</th>\n",
       "      <th>zu xian</th>\n",
       "      <th>zumhofe</th>\n",
       "      <th>zumhofe look</th>\n",
       "    </tr>\n",
       "  </thead>\n",
       "  <tbody>\n",
       "    <tr>\n",
       "      <th>0</th>\n",
       "      <td>0.0</td>\n",
       "      <td>0.0</td>\n",
       "      <td>0.0</td>\n",
       "      <td>0.0</td>\n",
       "      <td>0.0</td>\n",
       "      <td>0.0</td>\n",
       "      <td>0.0</td>\n",
       "      <td>0.0</td>\n",
       "      <td>0.0</td>\n",
       "      <td>0.0</td>\n",
       "      <td>...</td>\n",
       "      <td>0.0</td>\n",
       "      <td>0.0</td>\n",
       "      <td>0.0</td>\n",
       "      <td>0.0</td>\n",
       "      <td>0.0</td>\n",
       "      <td>0.0</td>\n",
       "      <td>0.0</td>\n",
       "      <td>0.0</td>\n",
       "      <td>0.0</td>\n",
       "      <td>0.0</td>\n",
       "    </tr>\n",
       "    <tr>\n",
       "      <th>1</th>\n",
       "      <td>0.0</td>\n",
       "      <td>0.0</td>\n",
       "      <td>0.0</td>\n",
       "      <td>0.0</td>\n",
       "      <td>0.0</td>\n",
       "      <td>0.0</td>\n",
       "      <td>0.0</td>\n",
       "      <td>0.0</td>\n",
       "      <td>0.0</td>\n",
       "      <td>0.0</td>\n",
       "      <td>...</td>\n",
       "      <td>0.0</td>\n",
       "      <td>0.0</td>\n",
       "      <td>0.0</td>\n",
       "      <td>0.0</td>\n",
       "      <td>0.0</td>\n",
       "      <td>0.0</td>\n",
       "      <td>0.0</td>\n",
       "      <td>0.0</td>\n",
       "      <td>0.0</td>\n",
       "      <td>0.0</td>\n",
       "    </tr>\n",
       "    <tr>\n",
       "      <th>2</th>\n",
       "      <td>0.0</td>\n",
       "      <td>0.0</td>\n",
       "      <td>0.0</td>\n",
       "      <td>0.0</td>\n",
       "      <td>0.0</td>\n",
       "      <td>0.0</td>\n",
       "      <td>0.0</td>\n",
       "      <td>0.0</td>\n",
       "      <td>0.0</td>\n",
       "      <td>0.0</td>\n",
       "      <td>...</td>\n",
       "      <td>0.0</td>\n",
       "      <td>0.0</td>\n",
       "      <td>0.0</td>\n",
       "      <td>0.0</td>\n",
       "      <td>0.0</td>\n",
       "      <td>0.0</td>\n",
       "      <td>0.0</td>\n",
       "      <td>0.0</td>\n",
       "      <td>0.0</td>\n",
       "      <td>0.0</td>\n",
       "    </tr>\n",
       "    <tr>\n",
       "      <th>3</th>\n",
       "      <td>0.0</td>\n",
       "      <td>0.0</td>\n",
       "      <td>0.0</td>\n",
       "      <td>0.0</td>\n",
       "      <td>0.0</td>\n",
       "      <td>0.0</td>\n",
       "      <td>0.0</td>\n",
       "      <td>0.0</td>\n",
       "      <td>0.0</td>\n",
       "      <td>0.0</td>\n",
       "      <td>...</td>\n",
       "      <td>0.0</td>\n",
       "      <td>0.0</td>\n",
       "      <td>0.0</td>\n",
       "      <td>0.0</td>\n",
       "      <td>0.0</td>\n",
       "      <td>0.0</td>\n",
       "      <td>0.0</td>\n",
       "      <td>0.0</td>\n",
       "      <td>0.0</td>\n",
       "      <td>0.0</td>\n",
       "    </tr>\n",
       "    <tr>\n",
       "      <th>4</th>\n",
       "      <td>0.0</td>\n",
       "      <td>0.0</td>\n",
       "      <td>0.0</td>\n",
       "      <td>0.0</td>\n",
       "      <td>0.0</td>\n",
       "      <td>0.0</td>\n",
       "      <td>0.0</td>\n",
       "      <td>0.0</td>\n",
       "      <td>0.0</td>\n",
       "      <td>0.0</td>\n",
       "      <td>...</td>\n",
       "      <td>0.0</td>\n",
       "      <td>0.0</td>\n",
       "      <td>0.0</td>\n",
       "      <td>0.0</td>\n",
       "      <td>0.0</td>\n",
       "      <td>0.0</td>\n",
       "      <td>0.0</td>\n",
       "      <td>0.0</td>\n",
       "      <td>0.0</td>\n",
       "      <td>0.0</td>\n",
       "    </tr>\n",
       "  </tbody>\n",
       "</table>\n",
       "<p>5 rows × 100245 columns</p>\n",
       "</div>"
      ],
      "text/plain": [
       "   00pm  00pm castro  00pm us  100m  100m budget  100th  100th grade  13th  \\\n",
       "0   0.0          0.0      0.0   0.0          0.0    0.0          0.0   0.0   \n",
       "1   0.0          0.0      0.0   0.0          0.0    0.0          0.0   0.0   \n",
       "2   0.0          0.0      0.0   0.0          0.0    0.0          0.0   0.0   \n",
       "3   0.0          0.0      0.0   0.0          0.0    0.0          0.0   0.0   \n",
       "4   0.0          0.0      0.0   0.0          0.0    0.0          0.0   0.0   \n",
       "\n",
       "   13th film  13th part      ...       zorro  zorro hell  zsigmond  \\\n",
       "0        0.0        0.0      ...         0.0         0.0       0.0   \n",
       "1        0.0        0.0      ...         0.0         0.0       0.0   \n",
       "2        0.0        0.0      ...         0.0         0.0       0.0   \n",
       "3        0.0        0.0      ...         0.0         0.0       0.0   \n",
       "4        0.0        0.0      ...         0.0         0.0       0.0   \n",
       "\n",
       "   zsigmond future   zu  zu neuen  zu warrior  zu xian  zumhofe  zumhofe look  \n",
       "0              0.0  0.0       0.0         0.0      0.0      0.0           0.0  \n",
       "1              0.0  0.0       0.0         0.0      0.0      0.0           0.0  \n",
       "2              0.0  0.0       0.0         0.0      0.0      0.0           0.0  \n",
       "3              0.0  0.0       0.0         0.0      0.0      0.0           0.0  \n",
       "4              0.0  0.0       0.0         0.0      0.0      0.0           0.0  \n",
       "\n",
       "[5 rows x 100245 columns]"
      ]
     },
     "execution_count": 20,
     "metadata": {},
     "output_type": "execute_result"
    }
   ],
   "source": [
    "feature_matrix_TRAIN_names = vectorizer.get_feature_names() \n",
    "feature_matrix_TRAIN_table = pd.DataFrame(data = feature_matrix_TRAIN.todense(), \n",
    "                                          columns = feature_matrix_TRAIN_names)\n",
    "feature_matrix_TRAIN_table.head(5)"
   ]
  },
  {
   "cell_type": "markdown",
   "metadata": {},
   "source": [
    "Vectorize testing data using the features created based on the training data:"
   ]
  },
  {
   "cell_type": "code",
   "execution_count": 21,
   "metadata": {},
   "outputs": [],
   "source": [
    "feature_matrix_TEST = vectorizer.transform(norm_reviews_test)\n",
    "feature_matrix_TEST_alt = vectorizer_alt.transform(norm_reviews_test)"
   ]
  },
  {
   "cell_type": "markdown",
   "metadata": {},
   "source": [
    "Estimate the the classification model for sentiment analysis based on Support Vector Machines method and do prediction of sentiment polarity for the test data:"
   ]
  },
  {
   "cell_type": "code",
   "execution_count": 22,
   "metadata": {},
   "outputs": [],
   "source": [
    "from sklearn import linear_model\n",
    "\n",
    "sent_analysis_svm = linear_model.SGDClassifier(loss='hinge') \n",
    "sent_analysis_svm.fit(feature_matrix_TRAIN, doc_train['polarity'])\n",
    "predicted_svm = sent_analysis_svm.predict(feature_matrix_TEST) \n",
    "\n",
    "sent_analysis_svm_alt = linear_model.SGDClassifier(loss='hinge') \n",
    "sent_analysis_svm_alt.fit(feature_matrix_TRAIN_alt, doc_train['polarity'])\n",
    "predicted_svm_alt = sent_analysis_svm_alt.predict(feature_matrix_TEST_alt)  "
   ]
  },
  {
   "cell_type": "markdown",
   "metadata": {},
   "source": [
    "For a sample of reviews in the test data, show the actual and predicted sentiment polarity:"
   ]
  },
  {
   "cell_type": "code",
   "execution_count": 23,
   "metadata": {},
   "outputs": [],
   "source": [
    "sample_ids = [0, 30, 330, 851, 951, 995] "
   ]
  },
  {
   "cell_type": "code",
   "execution_count": 24,
   "metadata": {},
   "outputs": [
    {
     "name": "stdout",
     "output_type": "stream",
     "text": [
      "Review:-\n",
      "Of the Korean movies I've seen, only three had really stuck with me. The first is the excellent horror A Tale of Two Sisters. The second and third - and now fourth too - have all been Park Chan Wook's movies, namely Oldboy, Sympathy for Lady Vengeance), and now Thirst. <br /><br />Park kinda reminds me of Quentin Tarantino with his irreverence towards convention. All his movies are shocking, but not in a gratuitous sense. It's more like he shows us what we don't expect to see - typically situations that go radically against society's morals, like incest or a libidinous, blood-sucking, yet devout priest. He's also quite artistically-inclined with regards to cinematography, and his movies are among the more gorgeous that I've seen.<br /><br />Thirst is all that - being about said priest and the repressed, conscience-less woman he falls for - and more. It's horror, drama, and even comedy, as Park disarms his audience with many inappropriate yet humorous situations. As such, this might be his best work for me yet, since his other two movies that I've seen were lacking the humor element that would've made them more palatable for repeat viewings.\n",
      "Actual Labeled Sentiment: positive\n",
      "Predicted Sentiment: positive\n",
      "\n",
      "Review:-\n",
      "Seriously, I don´t really get why people here are bashing it. I mean,<br /><br />the idea of a killer snowman wreaking havoc on a tropical island paradise is pretty absurd. The good news is, the producers realized it and made it a comedy in the vein of Army of Darkness. <br /><br />Especially in the second half of the film, when the little killer snowballs attack, I laughed my ass off. For example, the put one of the little creeps into a blender (a la Gremlins 1) and mix it. After that, it morphs back into a snowball and squeals with a high pitched voice \"That was fun!\".<br /><br />Bottom line - incredible movie, rent it.\n",
      "Actual Labeled Sentiment: positive\n",
      "Predicted Sentiment: negative\n",
      "\n",
      "Review:-\n",
      "I always loved this film. The music,story and the action. I especially love the opening and closing of the film. The music stayed with me throughout the years. The WWI plane battles were great and the comedy is typical Blake Edwards. Slaptick is his forte' after all. Julie's singing is amazing and keeps me glued to the screen. The sets and the scenes are wonderful. The characters are appealing. I loved the scene with the wounded soldiers and Julie's singing to them. I wish she sang to me in Vietnam. I also enjoyed the old cars from the period and the WWI music.I was glad when the DVD arrived. Now I can whistle in the dark watching it again and again.\n",
      "Actual Labeled Sentiment: positive\n",
      "Predicted Sentiment: positive\n",
      "\n",
      "Review:-\n",
      "The first few minutes showing the cold and crusty the Willis character were pretty enjoyable, especially with Jean Smart, but it really tanked after that. This is just hackneyed big man and little irritating kid stuff from way back with no innovation at all. I know that the casting probably picked this kid to show that Willis was just as irritating in his younger self, but I found this kid ESPECIALLY irritating and whinney.\n",
      "Actual Labeled Sentiment: negative\n",
      "Predicted Sentiment: negative\n",
      "\n",
      "Review:-\n",
      "One of those movies in which there are no big twists whatsoever and you can predict pretty much whats is going to happen. Matt dillon was awesome once again, but the rest didn't played a bigger part as they should have.<br /><br />It was exciting in the beginning but kinda slow paced and predictable in the end.Its one of those flicks in which the good guy wins no matter happens.If you have absolutely nothing to do, you can give it a try I personally found it not worth watching. The story could have been more interesting and the director could have made it less of a B-movie by engineering a happy ending.\n",
      "Actual Labeled Sentiment: negative\n",
      "Predicted Sentiment: negative\n",
      "\n",
      "Review:-\n",
      "Holy cow, what a piece of sh*t this movie is. I didn't how these filmmakers could take a 250 word book and turn it into a movie. I guess they didn't know either! I don't remember any farting or belching in the book, do you?<br /><br />They took this all times childrens classic, added some farting, belching and sexual inuindo, and prostituted it into a KAKA joke. This should give you a good idea of what these hollywood producers think like. I have to say, visually it was interesting, but the brilliant visual story is ruined by toilet humor (if you even think that kind of thing is funny) I DON'T want the kids that I know to think it is.<br /><br />Don't take your kids to see, don't rent the DVD. I hope the ghost of Doctor Suess ghost comes and haunts the people that made this movie.\n",
      "Actual Labeled Sentiment: negative\n",
      "Predicted Sentiment: negative\n",
      "\n"
     ]
    }
   ],
   "source": [
    "for doc_index in sample_ids:\n",
    "    print('Review:-')\n",
    "    print(np.array(doc_test['review_text'])[doc_index])\n",
    "    print('Actual Labeled Sentiment:', np.array(doc_test['polarity'])[doc_index])\n",
    "    print('Predicted Sentiment:', predicted_svm[doc_index])   \n",
    "    print()"
   ]
  },
  {
   "cell_type": "markdown",
   "metadata": {},
   "source": [
    "**EXERCISE 1: Play with sample_ids to display actual and predicted sentiment polarity for different reviews. Try to develop some intuition on why the machine makes prediction mistakes.**"
   ]
  },
  {
   "cell_type": "markdown",
   "metadata": {},
   "source": [
    "The second review which is labeled positive but predicted negative has large portion of descriptions of the movie which contains negative words a lot. Only one sentence at last shows his attitude. THe machine cannot distinguish the negative words for the description of movie or for expression of  his sentiment."
   ]
  },
  {
   "cell_type": "markdown",
   "metadata": {},
   "source": [
    "Compute the accuracy metrics (accuracy score, recall, and precision) for the sentiment prediction based on the combination of uni-grams and bi-grams:"
   ]
  },
  {
   "cell_type": "code",
   "execution_count": 25,
   "metadata": {},
   "outputs": [
    {
     "name": "stdout",
     "output_type": "stream",
     "text": [
      "Accuracy: 0.8\n",
      "Precision: 0.88\n",
      "Recall: 0.69\n"
     ]
    }
   ],
   "source": [
    "from sklearn import metrics\n",
    "\n",
    "true_labels = doc_test['polarity']\n",
    "predicted_labels = predicted_svm\n",
    "positive_class = 'positive'\n",
    "\n",
    "print('Accuracy:', np.round(metrics.accuracy_score(true_labels, \n",
    "                                                        predicted_labels), 2))\n",
    "\n",
    "print('Precision:', np.round(metrics.precision_score(true_labels, \n",
    "                                                          predicted_labels, \n",
    "                                                          pos_label=positive_class, \n",
    "                                                          average='binary'), 2)) \n",
    "\n",
    "print('Recall:', np.round(metrics.recall_score(true_labels, \n",
    "                                                   predicted_labels, \n",
    "                                                   pos_label=positive_class, \n",
    "                                                   average='binary'), 2)) "
   ]
  },
  {
   "cell_type": "markdown",
   "metadata": {},
   "source": [
    "**BOOTSTRAPPING FOR MODEL COMPARISON:**"
   ]
  },
  {
   "cell_type": "code",
   "execution_count": 26,
   "metadata": {},
   "outputs": [],
   "source": [
    "import numpy as np\n",
    "from sklearn.utils import resample\n",
    "from sklearn.tree import DecisionTreeClassifier\n",
    "from sklearn.metrics import accuracy_score\n",
    "from matplotlib import pyplot"
   ]
  },
  {
   "cell_type": "markdown",
   "metadata": {},
   "source": [
    "Configure bootstrap: select number of iterations, sample size and generate observation ids:"
   ]
  },
  {
   "cell_type": "code",
   "execution_count": 27,
   "metadata": {},
   "outputs": [],
   "source": [
    "n_iterations = 100\n",
    "n_size = 1000\n",
    "ids = range(1000)"
   ]
  },
  {
   "cell_type": "markdown",
   "metadata": {},
   "source": [
    "Display the accuracy for the original and the alternative models, as well as the difference in accuracy, delta:"
   ]
  },
  {
   "cell_type": "code",
   "execution_count": 28,
   "metadata": {},
   "outputs": [
    {
     "name": "stdout",
     "output_type": "stream",
     "text": [
      "Accuracy prediction, original:  0.798\n",
      "Accuracy prediction, alternative:  0.77\n",
      "Difference in accuracy prediction:  0.028000000000000025\n"
     ]
    }
   ],
   "source": [
    "svm_accuracy = np.round(metrics.accuracy_score(np.array(doc_test['polarity']), predicted_svm), 3)\n",
    "svm_accuracy_alt = np.round(metrics.accuracy_score(np.array(doc_test['polarity']), predicted_svm_alt), 3)\n",
    "delta_test = svm_accuracy - svm_accuracy_alt\n",
    "print(\"Accuracy prediction, original: \", svm_accuracy)\n",
    "print(\"Accuracy prediction, alternative: \", svm_accuracy_alt)\n",
    "print(\"Difference in accuracy prediction: \", delta_test)"
   ]
  },
  {
   "cell_type": "markdown",
   "metadata": {},
   "source": [
    "Run the bootstrap:"
   ]
  },
  {
   "cell_type": "code",
   "execution_count": 29,
   "metadata": {},
   "outputs": [],
   "source": [
    "svm_accuracy_boot = list()\n",
    "svm_accuracy_boot_alt = list()\n",
    "s = 0\n",
    "\n",
    "for i in range(n_iterations):\n",
    "    \n",
    "    #prepare a pseudo test set\n",
    "    test_ids = resample(ids, n_samples = n_size)\n",
    "    actual_sentiments = np.array(doc_test['polarity'])[test_ids]\n",
    "    \n",
    "    #compute predictions on the pseudo sample\n",
    "    svm_predicted = sent_analysis_svm.predict(feature_matrix_TEST[test_ids])\n",
    "    svm_predicted_alt = sent_analysis_svm_alt.predict(feature_matrix_TEST_alt[test_ids])\n",
    "    \n",
    "    #compute accuracy for the pseudo sample\n",
    "    svm_accuracy_boot_iter = metrics.accuracy_score(np.array(doc_test['polarity'])[test_ids], svm_predicted)\n",
    "    svm_accuracy_boot_iter_alt = metrics.accuracy_score(np.array(doc_test['polarity'])[test_ids], svm_predicted_alt)\n",
    "\n",
    "    delta = svm_accuracy_boot_iter - svm_accuracy_boot_iter_alt\n",
    "    \n",
    "    if delta > 2*delta_test:\n",
    "        s = s+1\n",
    "    \n",
    "    pvalue = float(s)/n_iterations\n",
    "    \n",
    "    svm_accuracy_boot.append(svm_accuracy_boot_iter)\n",
    "    svm_accuracy_boot_alt.append(svm_accuracy_boot_iter_alt)"
   ]
  },
  {
   "cell_type": "markdown",
   "metadata": {},
   "source": [
    "Have a look at the p-value and the mean performance (accuracy) of the two models on the bootstrapped test datasets.\n",
    " \n",
    "Interpretation of the p-value: What is the probability that we will reject the null hypothesis? The null hypothesis: the original model A is no better than the alternative model B)."
   ]
  },
  {
   "cell_type": "code",
   "execution_count": 30,
   "metadata": {},
   "outputs": [
    {
     "name": "stdout",
     "output_type": "stream",
     "text": [
      "p-value:  0.01\n",
      "Mean accuracy for Original Model:  0.798\n",
      "Mean accuracy for Alternative Model:  0.77\n"
     ]
    },
    {
     "data": {
      "image/png": "[encoded data removed]",
      "text/plain": [
       "<Figure size 432x288 with 1 Axes>"
      ]
     },
     "metadata": {},
     "output_type": "display_data"
    },
    {
     "data": {
      "image/png": "[encoded data removed]",
      "text/plain": [
       "<Figure size 432x288 with 1 Axes>"
      ]
     },
     "metadata": {},
     "output_type": "display_data"
    }
   ],
   "source": [
    "print('p-value: ', pvalue)\n",
    "print('Mean accuracy for Original Model: ', np.round(np.mean(svm_accuracy_boot),3))\n",
    "print('Mean accuracy for Alternative Model: ', np.round(np.mean(svm_accuracy_boot_alt),3))\n",
    "\n",
    "\n",
    "import matplotlib.pyplot as plt\n",
    "\n",
    "plt.hist(svm_accuracy_boot,bins = 30)\n",
    "plt.xlabel(\"distribution of accuracy rates\")\n",
    "plt.title(\"Original Model\")\n",
    "plt.show()\n",
    "\n",
    "plt.hist(svm_accuracy_boot_alt,bins = 30)\n",
    "plt.xlabel(\"distribution of accuracy rates\")\n",
    "plt.title(\"Alternative Model\")\n",
    "plt.show()"
   ]
  },
  {
   "cell_type": "markdown",
   "metadata": {},
   "source": [
    "Let's visualize the performance (accuracy) of the two models on the bostrapped test datasets by plotting the accuracy rates: "
   ]
  },
  {
   "cell_type": "code",
   "execution_count": 31,
   "metadata": {},
   "outputs": [
    {
     "data": {
      "image/png": "[encoded data removed]",
      "text/plain": [
       "<Figure size 432x288 with 1 Axes>"
      ]
     },
     "metadata": {},
     "output_type": "display_data"
    },
    {
     "data": {
      "image/png": "[encoded data removed]",
      "text/plain": [
       "<Figure size 432x288 with 1 Axes>"
      ]
     },
     "metadata": {},
     "output_type": "display_data"
    }
   ],
   "source": [
    "import matplotlib.pyplot as plt\n",
    "\n",
    "plt.hist(svm_accuracy_boot,bins = 30)\n",
    "plt.xlabel(\"distribution of accuracy rates\")\n",
    "plt.title(\"Original Model\")\n",
    "plt.show()\n",
    "\n",
    "plt.hist(svm_accuracy_boot_alt,bins = 30)\n",
    "plt.xlabel(\"distribution of accuracy rates\")\n",
    "plt.title(\"Alternative Model\")\n",
    "plt.show()"
   ]
  },
  {
   "cell_type": "markdown",
   "metadata": {},
   "source": [
    "**EXERCISE 2: Suggest and bootstrap-test a different model of sentiment polarity prediction using supervised machine learning techniques. You can consider a different fitting method (e.g., Naive Bayes or logit) or create features differently (e.g., use \"bag-of-words\").**"
   ]
  },
  {
   "cell_type": "code",
   "execution_count": 32,
   "metadata": {},
   "outputs": [],
   "source": [
    "from sklearn.naive_bayes import MultinomialNB\n",
    "clf = MultinomialNB(alpha=0.1) \n",
    "clf.fit(feature_matrix_TRAIN, doc_train['polarity'])\n",
    "predicted_nb = clf.predict(feature_matrix_TEST)"
   ]
  },
  {
   "cell_type": "code",
   "execution_count": 33,
   "metadata": {},
   "outputs": [],
   "source": [
    "clf_alt = MultinomialNB(alpha=0.1) \n",
    "clf_alt.fit(feature_matrix_TRAIN_alt, doc_train['polarity'])\n",
    "predicted_nb_alt = clf_alt.predict(feature_matrix_TEST_alt)\n"
   ]
  },
  {
   "cell_type": "code",
   "execution_count": 34,
   "metadata": {},
   "outputs": [],
   "source": [
    "nb_accuracy = np.round(metrics.accuracy_score(np.array(doc_test['polarity']), predicted_nb), 3)\n",
    "nb_accuracy_alt = np.round(metrics.accuracy_score(np.array(doc_test['polarity']), predicted_nb_alt), 3)\n",
    "delta_test = nb_accuracy - nb_accuracy_alt"
   ]
  },
  {
   "cell_type": "code",
   "execution_count": 35,
   "metadata": {},
   "outputs": [],
   "source": [
    "nb_accuracy_boot = list()\n",
    "nb_accuracy_boot_alt = list()\n",
    "s = 0\n",
    "\n",
    "for i in range(n_iterations):\n",
    "    \n",
    "    #prepare a pseudo test set\n",
    "    test_ids = resample(ids, n_samples = n_size)\n",
    "    actual_sentiments = np.array(doc_test['polarity'])[test_ids]\n",
    "    \n",
    "    #compute predictions on the pseudo sample\n",
    "    nb_predicted = clf.predict(feature_matrix_TEST[test_ids])\n",
    "    nb_predicted_alt = clf_alt.predict(feature_matrix_TEST_alt[test_ids])\n",
    "    \n",
    "    #compute accuracy for the pseudo sample\n",
    "    nb_accuracy_boot_iter = metrics.accuracy_score(np.array(doc_test['polarity'])[test_ids], nb_predicted)\n",
    "    nb_accuracy_boot_iter_alt = metrics.accuracy_score(np.array(doc_test['polarity'])[test_ids], nb_predicted_alt)\n",
    "\n",
    "    delta = nb_accuracy_boot_iter - nb_accuracy_boot_iter_alt\n",
    "    \n",
    "    if delta > 2*delta_test:\n",
    "        s = s+1\n",
    "    \n",
    "    pvalue = float(s)/n_iterations\n",
    "    \n",
    "    nb_accuracy_boot.append(nb_accuracy_boot_iter)\n",
    "    nb_accuracy_boot_alt.append(nb_accuracy_boot_iter_alt)"
   ]
  },
  {
   "cell_type": "code",
   "execution_count": 37,
   "metadata": {},
   "outputs": [
    {
     "name": "stdout",
     "output_type": "stream",
     "text": [
      "p-value:  0.0\n",
      "Mean accuracy for Original Model:  0.766\n",
      "Mean accuracy for Alternative Model:  0.74\n"
     ]
    }
   ],
   "source": [
    "print('p-value: ', pvalue)\n",
    "print('Mean accuracy for Original Model: ', np.round(np.mean(nb_accuracy_boot),3))\n",
    "print('Mean accuracy for Alternative Model: ', np.round(np.mean(nb_accuracy_boot_alt),3))"
   ]
  },
  {
   "cell_type": "code",
   "execution_count": 38,
   "metadata": {},
   "outputs": [
    {
     "data": {
      "image/png": "[encoded data removed]",
      "text/plain": [
       "<Figure size 432x288 with 1 Axes>"
      ]
     },
     "metadata": {},
     "output_type": "display_data"
    },
    {
     "data": {
      "image/png": "[encoded data removed]",
      "text/plain": [
       "<Figure size 432x288 with 1 Axes>"
      ]
     },
     "metadata": {},
     "output_type": "display_data"
    }
   ],
   "source": [
    "import matplotlib.pyplot as plt\n",
    "\n",
    "plt.hist(nb_accuracy_boot,bins = 30)\n",
    "plt.xlabel(\"distribution of accuracy rates\")\n",
    "plt.title(\"Original Model\")\n",
    "plt.show()\n",
    "\n",
    "plt.hist(nb_accuracy_boot_alt,bins = 30)\n",
    "plt.xlabel(\"distribution of accuracy rates\")\n",
    "plt.title(\"Alternative Model\")\n",
    "plt.show()"
   ]
  },
  {
   "cell_type": "code",
   "execution_count": null,
   "metadata": {},
   "outputs": [],
   "source": []
  }
 ],
 "metadata": {
  "kernelspec": {
   "display_name": "Python 3",
   "language": "python",
   "name": "python3"
  },
  "language_info": {
   "codemirror_mode": {
    "name": "ipython",
    "version": 3
   },
   "file_extension": ".py",
   "mimetype": "text/x-python",
   "name": "python",
   "nbconvert_exporter": "python",
   "pygments_lexer": "ipython3",
   "version": "3.6.5"
  }
 },
 "nbformat": 4,
 "nbformat_minor": 2
}
